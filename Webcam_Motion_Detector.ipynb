{
 "cells": [
  {
   "cell_type": "code",
   "execution_count": 2,
   "metadata": {},
   "outputs": [],
   "source": [
    "import cv2,time,pandas\n",
    "from datetime import datetime"
   ]
  },
  {
   "cell_type": "code",
   "execution_count": 7,
   "metadata": {},
   "outputs": [
    {
     "name": "stdout",
     "output_type": "stream",
     "text": [
      "[datetime.datetime(2020, 7, 15, 18, 55, 35, 186116), datetime.datetime(2020, 7, 15, 18, 55, 53, 747236), datetime.datetime(2020, 7, 15, 18, 55, 56, 270528), datetime.datetime(2020, 7, 15, 18, 56, 8, 161631)]\n"
     ]
    }
   ],
   "source": [
    "video=cv2.VideoCapture(0)\n",
    "first_frame=None\n",
    "\n",
    "df=pandas.DataFrame(columns=[\"Time in\",\"Time out\"])\n",
    "\n",
    "status_list=[None,None]\n",
    "time_in_out=[]\n",
    "while True:\n",
    "    check,frame= video.read()\n",
    "    \n",
    "    status=0\n",
    "    \n",
    "    gray=cv2.cvtColor(frame,cv2.COLOR_BGR2GRAY)\n",
    "    gray=cv2.GaussianBlur(gray,(21,21),0)\n",
    "    \n",
    "    if first_frame is None:\n",
    "        first_frame=gray\n",
    "        continue\n",
    "        \n",
    "    delta_frame=cv2.absdiff(first_frame,gray)\n",
    "    \n",
    "    threshold_frame=cv2.threshold(delta_frame,30,255,cv2.THRESH_BINARY)[1]\n",
    "    \n",
    "    threshold_frame=cv2.dilate(threshold_frame,None,iterations=2)\n",
    "    \n",
    "    cont,_ =cv2.findContours(threshold_frame.copy(),cv2.RETR_EXTERNAL,cv2.CHAIN_APPROX_SIMPLE)\n",
    "    \n",
    "    for contours in cont:\n",
    "        if cv2.contourArea(contours)<10000:\n",
    "            continue\n",
    "            \n",
    "        status=1\n",
    "        \n",
    "        (x,y,w,h)=cv2.boundingRect(contours)\n",
    "        cv2.rectangle(frame, (x,y), (x+w,y+h), (0,255,0),3)\n",
    "    \n",
    "    status_list.append(status)\n",
    "    \n",
    "    if status_list[-1]==1 and status_list[-2]==0:\n",
    "        time_in_out.append(datetime.now())\n",
    "        \n",
    "    if status_list[-1]==0 and status_list[-2]==1:\n",
    "        time_in_out.append(datetime.now())\n",
    "        \n",
    "    cv2.imshow(\"Gray frame\",gray)\n",
    "    cv2.imshow(\"Delta frame\",delta_frame)\n",
    "    cv2.imshow(\"Threshold frame\",threshold_frame)\n",
    "    cv2.imshow(\"Color frame\",frame)\n",
    "    \n",
    "    key=cv2.waitKey(1)\n",
    "   \n",
    "    if key==ord('q'):\n",
    "        if status==1:\n",
    "            time_in_out.append(datetime.now())\n",
    "        break\n",
    "print(time_in_out)\n",
    "\n",
    "for i in range(0,len(time_in_out),2):\n",
    "    df=df.append({\"Entry time\": time_in_out[i], \"Exit time\": time_in_out[i+1]},ignore_index=True)\n",
    "    \n",
    "df.to_csv(\"Timing for Motion Detector.csv\")\n",
    "\n",
    "video.release()\n",
    "cv2.destroyAllWindows()"
   ]
  },
  {
   "cell_type": "code",
   "execution_count": null,
   "metadata": {},
   "outputs": [],
   "source": []
  }
 ],
 "metadata": {
  "kernelspec": {
   "display_name": "Python 3",
   "language": "python",
   "name": "python3"
  },
  "language_info": {
   "codemirror_mode": {
    "name": "ipython",
    "version": 3
   },
   "file_extension": ".py",
   "mimetype": "text/x-python",
   "name": "python",
   "nbconvert_exporter": "python",
   "pygments_lexer": "ipython3",
   "version": "3.7.6"
  }
 },
 "nbformat": 4,
 "nbformat_minor": 4
}
